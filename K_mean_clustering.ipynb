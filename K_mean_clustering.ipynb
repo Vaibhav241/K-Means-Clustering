{
 "cells": [
  {
   "cell_type": "code",
   "execution_count": 16,
   "metadata": {},
   "outputs": [],
   "source": [
    "import matplotlib.pyplot as plt\n",
    "import pandas as pd\n",
    "import math"
   ]
  },
  {
   "cell_type": "code",
   "execution_count": 17,
   "metadata": {},
   "outputs": [
    {
     "name": "stdout",
     "output_type": "stream",
     "text": [
      "x= [2, 2, 1, 5, 7, 6, 8, 4]\n",
      "y= [8, 5, 2, 8, 3, 4, 4, 7]\n"
     ]
    },
    {
     "data": {
      "text/plain": [
       "<matplotlib.collections.PathCollection at 0x1e577d22438>"
      ]
     },
     "execution_count": 17,
     "metadata": {},
     "output_type": "execute_result"
    },
    {
     "data": {
      "image/png": "[encoded data removed]",
      "text/plain": [
       "<Figure size 432x288 with 1 Axes>"
      ]
     },
     "metadata": {
      "needs_background": "light"
     },
     "output_type": "display_data"
    }
   ],
   "source": [
    "p=[(2,8),(2,5),(1,2),(5,8),(7,3),(6,4),(8,4),(4,7)]\n",
    "l=len(p)\n",
    "x=[]\n",
    "y=[]\n",
    "for i in range(0,l):\n",
    "    x.append(p[i][0])\n",
    "    y.append(p[i][1])\n",
    "\n",
    "print(\"x=\",x)\n",
    "print(\"y=\",y)  \n",
    "\n",
    "plt.scatter(x,y)"
   ]
  },
  {
   "cell_type": "code",
   "execution_count": 18,
   "metadata": {},
   "outputs": [
    {
     "name": "stdout",
     "output_type": "stream",
     "text": [
      "distance matrix\n",
      "[[0.0, 3.0, 6.0828, 3.0, 7.0711, 5.6569, 7.2111, 2.2361], [3.0, 0.0, 3.1623, 4.2426, 5.3852, 4.1231, 6.0828, 2.8284], [6.0828, 3.1623, 0.0, 7.2111, 6.0828, 5.3852, 7.2801, 5.831], [3.0, 4.2426, 7.2111, 0.0, 5.3852, 4.1231, 5.0, 1.4142], [7.0711, 5.3852, 6.0828, 5.3852, 0.0, 1.4142, 1.4142, 5.0], [5.6569, 4.1231, 5.3852, 4.1231, 1.4142, 0.0, 2.0, 3.6056], [7.2111, 6.0828, 7.2801, 5.0, 1.4142, 2.0, 0.0, 5.0]]\n"
     ]
    }
   ],
   "source": [
    "#a=[[2,8],[2,5],[1,2],[5,8],[7,3],[6,4],[8,4],[4,7]]\n",
    "l=len(p)\n",
    "D=[]\n",
    "\n",
    "for i in range(0,(l-1)):\n",
    "    D.append([])\n",
    "    for j in range(0,l):\n",
    "        d=((p[j][0]-p[i][0])**2 + (p[j][1]-p[i][1])**2)\n",
    "        distt=math.sqrt(d)\n",
    "        dist=round(distt,4)\n",
    "        D[i].append(dist)\n",
    "\n",
    "print(\"distance matrix\")       \n",
    "print(D)\n",
    "    "
   ]
  },
  {
   "cell_type": "code",
   "execution_count": 19,
   "metadata": {},
   "outputs": [
    {
     "name": "stdout",
     "output_type": "stream",
     "text": [
      "Assumed centroids\n",
      "[(1, 2), (5, 8), (6, 4)]\n"
     ]
    }
   ],
   "source": [
    "#assume random 3 centroids\n",
    "c1=p[2]\n",
    "c2=p[3]\n",
    "c3=p[5]\n",
    "cent=[p[2],p[3],p[5]]\n",
    "print(\"Assumed centroids\")\n",
    "print(cent)\n",
    "\n",
    "def dist(cent,lst):\n",
    "    dis=((lst[0]-cent[0])**2 + (lst[1]-cent[1])**2)\n",
    "    distt=math.sqrt(dis)\n",
    "    dist=round(distt,3)\n",
    "    return dist     "
   ]
  },
  {
   "cell_type": "code",
   "execution_count": 20,
   "metadata": {},
   "outputs": [
    {
     "name": "stdout",
     "output_type": "stream",
     "text": [
      "cluster1= [(2, 5), (1, 2)]\n",
      "cluster2= [(2, 8), (5, 8), (4, 7)]\n",
      "cluster3= [(7, 3), (6, 4), (8, 4)]\n",
      "points in their respective clusters\n",
      "[[(2, 5), (1, 2)], [(2, 8), (5, 8), (4, 7)], [(7, 3), (6, 4), (8, 4)]]\n"
     ]
    }
   ],
   "source": [
    "def cluster(centt,lstt):\n",
    "    g1=[]\n",
    "    g2=[]\n",
    "    g3=[]\n",
    "    for i in range(0,len(lstt)):\n",
    "        d=[]\n",
    "        for j in range(0,len(centt)):\n",
    "            a=dist(centt[j],lstt[i])\n",
    "            d.append(a)\n",
    "        minn=min(d)\n",
    "        for k in range(0,len(d)):\n",
    "            if(minn==d[k]):   #positions start from 0 but out=r clusters start from 1\n",
    "                if (k+1)==1:\n",
    "                    g1.append(lstt[i])\n",
    "                if (k+1)==2:\n",
    "                    g2.append(lstt[i])\n",
    "                if (k+1)==3:\n",
    "                    g3.append(lstt[i])\n",
    "    \n",
    "    print(\"cluster1=\",g1)\n",
    "    print(\"cluster2=\",g2)\n",
    "    print(\"cluster3=\",g3)\n",
    "    \n",
    "    g=[]\n",
    "    g.append(g1)\n",
    "    g.append(g2)\n",
    "    g.append(g3)\n",
    "    return g\n",
    "    \n",
    "a=cluster(cent,p)\n",
    "print(\"points in their respective clusters\")\n",
    "print(a)                   "
   ]
  },
  {
   "cell_type": "code",
   "execution_count": 21,
   "metadata": {},
   "outputs": [
    {
     "name": "stdout",
     "output_type": "stream",
     "text": [
      "moved centroids\n",
      "[(1.5, 3.5), (3.67, 7.67), (7.0, 3.67)]\n"
     ]
    }
   ],
   "source": [
    "def newcentroid(clust):\n",
    "    newc=[]\n",
    "    for i in range(0,len(clust)):\n",
    "        x=[]\n",
    "        y=[]\n",
    "        u=clust[i]\n",
    "        for j in range(0,len(u)):\n",
    "            x1=clust[i][j][0]\n",
    "            y1=clust[i][j][1]\n",
    "            x.append(x1)\n",
    "            y.append(y1)\n",
    "        leng=len(clust[i])\n",
    "        newx=sum(x)/leng\n",
    "        newxr=round(newx,2)\n",
    "        newy=sum(y)/leng\n",
    "        newyr=round(newy,2)\n",
    "        pt=(newxr,newyr)\n",
    "        newc.append(pt)\n",
    "    #print(newc)\n",
    "    return newc\n",
    "    \n",
    "print(\"moved centroids\")\n",
    "b=newcentroid(a)\n",
    "print(b)"
   ]
  },
  {
   "cell_type": "code",
   "execution_count": 22,
   "metadata": {},
   "outputs": [
    {
     "name": "stdout",
     "output_type": "stream",
     "text": [
      "cluster1= [(2, 5), (1, 2)]\n",
      "cluster2= [(2, 8), (5, 8), (4, 7)]\n",
      "cluster3= [(7, 3), (6, 4), (8, 4)]\n",
      "\n",
      "points in their respective New clusters\n",
      "[[(2, 5), (1, 2)], [(2, 8), (5, 8), (4, 7)], [(7, 3), (6, 4), (8, 4)]]\n",
      "\n",
      "New moved centroids\n",
      "[(1.5, 3.5), (3.67, 7.67), (7.0, 3.67)]\n",
      "\n",
      "\n",
      "Final Centroids are= [(1.5, 3.5), (3.67, 7.67), (7.0, 3.67)]\n",
      "Final Clusters are= [[(2, 5), (1, 2)], [(2, 8), (5, 8), (4, 7)], [(7, 3), (6, 4), (8, 4)]]\n",
      "0\n"
     ]
    }
   ],
   "source": [
    "k=1\n",
    "while(k!=0):\n",
    "    v=cluster(b,p)\n",
    "    o=newcentroid(v)\n",
    "    print()\n",
    "    print(\"points in their respective New clusters\")\n",
    "    print(v)\n",
    "    print()\n",
    "    print(\"New moved centroids\")\n",
    "    print(o)\n",
    "    \n",
    "    print(\"\\n\")\n",
    "    if(b==o):\n",
    "        k=0\n",
    "        print(\"Final Centroids are=\",o)\n",
    "        print(\"Final Clusters are=\",v)\n",
    "print(k)    "
   ]
  },
  {
   "cell_type": "code",
   "execution_count": null,
   "metadata": {},
   "outputs": [],
   "source": []
  },
  {
   "cell_type": "code",
   "execution_count": null,
   "metadata": {},
   "outputs": [],
   "source": []
  }
 ],
 "metadata": {
  "kernelspec": {
   "display_name": "Python 3",
   "language": "python",
   "name": "python3"
  },
  "language_info": {
   "codemirror_mode": {
    "name": "ipython",
    "version": 3
   },
   "file_extension": ".py",
   "mimetype": "text/x-python",
   "name": "python",
   "nbconvert_exporter": "python",
   "pygments_lexer": "ipython3",
   "version": "3.7.0"
  }
 },
 "nbformat": 4,
 "nbformat_minor": 2
}
